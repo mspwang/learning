{
 "cells": [
  {
   "cell_type": "code",
   "execution_count": 196,
   "metadata": {},
   "outputs": [
    {
     "data": {
      "text/plain": [
       "Index([u'Survived', u'SibSp', u'Parch', u'Cabin_No', u'Cabin_Yes', u'Pclass_1',\n",
       "       u'Pclass_2', u'Pclass_3', u'Sex_female', u'Sex_male', u'Embarked_C',\n",
       "       u'Embarked_Q', u'Embarked_S', u'Age_scaled', u'Fare_scaled'],\n",
       "      dtype='object')"
      ]
     },
     "execution_count": 196,
     "metadata": {},
     "output_type": "execute_result"
    }
   ],
   "source": [
    "## with cross validation\n",
    "\n",
    "from sklearn.ensemble import RandomForestRegressor\n",
    "from sklearn import cross_validation\n",
    "import sklearn.preprocessing as preprocessing\n",
    "import pandas as pd\n",
    "\n",
    "class data_util:\n",
    "    def set_missing_fare(self, df):\n",
    "        df.loc[(df.Fare.isnull()), 'Fare'] = 0\n",
    "        \n",
    "    def set_missing_ages(self, df):\n",
    "        # get numerial fields\n",
    "        age_df = df[['Age', 'Fare', 'Parch', 'SibSp', 'Pclass']]\n",
    "        \n",
    "        known_ages = age_df[age_df.Age.notnull()].as_matrix()\n",
    "        unknown_ages = age_df[age_df.Age.isnull()].as_matrix()\n",
    "        \n",
    "        y = known_ages[:, 0]\n",
    "        x = known_ages[:, 1:]\n",
    "        \n",
    "        rfr = RandomForestRegressor(random_state=0, n_estimators=2000, n_jobs=-1)\n",
    "        rfr.fit(x, y)\n",
    "        \n",
    "        predictedAges = rfr.predict(unknown_ages[:, 1:])\n",
    "        df.loc[(df.Age.isnull()), 'Age'] = predictedAges\n",
    "        \n",
    "        return df, rfr\n",
    "    \n",
    "    def change_cabin_to_enum(self, df):\n",
    "        # the order matters here, MUST check NOT null, then check is null!!!\n",
    "        df.loc[(df.Cabin.notnull()), 'Cabin'] = 'Yes'\n",
    "        df.loc[(df.Cabin.isnull()), 'Cabin'] = 'No'\n",
    "        return df\n",
    "    \n",
    "    def replace_with_dummies(self, df):\n",
    "        dummies_Age = pd.get_dummies(df['AgeCat'], prefix = 'AgeCat')\n",
    "        dummies_Cabin = pd.get_dummies(df['Cabin'], prefix = 'Cabin')\n",
    "        dummies_Pclass = pd.get_dummies(df['Pclass'], prefix = 'Pclass')\n",
    "        dummies_Sex = pd.get_dummies(df['Sex'], prefix = 'Sex')\n",
    "        dummies_Embarked = pd.get_dummies(df['Embarked'], prefix = 'Embarked')\n",
    "        \n",
    "        data_to_train = pd.concat([df, dummies_Age, dummies_Cabin, dummies_Pclass, dummies_Sex, dummies_Embarked], axis=1)\n",
    "        # remove Ticket as well, because it is useless\n",
    "        data_to_train.drop(['Cabin', 'Pclass', 'Sex', 'Embarked', 'Ticket'], axis=1, inplace=True)\n",
    "        \n",
    "        return data_to_train\n",
    "    \n",
    "    def scale_fields(self, df):\n",
    "        scaler = preprocessing.StandardScaler()\n",
    "        age_scale_param = scaler.fit(df['Age'].values.reshape(-1,1))\n",
    "        df['Age_scaled'] = scaler.fit_transform(df['Age'].values.reshape(-1,1), age_scale_param)\n",
    "\n",
    "        fare_scale_param = scaler.fit(df['Fare'].values.reshape(-1,1))\n",
    "        df['Fare_scaled'] = scaler.fit_transform(df['Fare'].values.reshape(-1,1), fare_scale_param)\n",
    "        \n",
    "        return df\n",
    "    \n",
    "    def get_features(self, df):\n",
    "        return df.filter(regex='Survived|Age_.*|SibSp|Parch|Fare_.*|Cabin_.*|Embarked_.*|Sex_.*|Pclass_.*')\n",
    "    \n",
    "    def change_age_to_enum(self, df):\n",
    "        df['AgeCat'] = df['Age']\n",
    "        df.loc[ (df.Age <= 10) ,'AgeCat'] = 'child'\n",
    "        df.loc[ (df.Age > 60),'AgeCat'] = 'old'\n",
    "        df.loc[ (df.Age > 10) & (df.Age <=35) ,'AgeCat'] = 'youth'\n",
    "        df.loc[ (df.Age > 35) & (df.Age <=60) ,'AgeCat'] = 'senior'\n",
    "        return df\n",
    "    \n",
    "    # error rate are calculated on train data, which will has a column 'Survived' as the first column\n",
    "    def get_error_rate(self, full_data_train, data_train, data_df, train_data_predictions):\n",
    "        not_matched_passengerids = data_train[train_data_predictions != data_df.as_matrix()[:,0]]['PassengerId'].values\n",
    "        bad_cases = full_data_train.loc[full_data_train['PassengerId'].isin(not_matched_passengerids)]\n",
    "        return float(len(bad_cases))/float(len(data_train))\n",
    "    \n",
    "\n",
    "data_train = pd.read_csv('data/train.csv')\n",
    "util = data_util()\n",
    "data_train, rfr = util.set_missing_ages(data_train)\n",
    "data_train = util.change_age_to_enum(data_train)\n",
    "data_train = util.change_cabin_to_enum(data_train)\n",
    "data_train = util.replace_with_dummies(data_train)\n",
    "data_train = util.scale_fields(data_train)\n",
    "\n",
    "## Define the linear model\n",
    "\n",
    "from sklearn import linear_model\n",
    "\n",
    "split_train, split_cv = cross_validation.train_test_split(data_train, test_size=0.3, random_state=0)\n",
    "train_df = util.get_features(split_train)\n",
    "train_df.columns"
   ]
  },
  {
   "cell_type": "code",
   "execution_count": 198,
   "metadata": {},
   "outputs": [
    {
     "data": {
      "text/plain": [
       "0.81380417335473521"
      ]
     },
     "execution_count": 198,
     "metadata": {},
     "output_type": "execute_result"
    }
   ],
   "source": [
    "train_np = train_df.as_matrix()\n",
    "y = train_np[:, 0]\n",
    "X = train_np[:, 1:]\n",
    "\n",
    "clf = linear_model.LogisticRegression(C=1.0, penalty='l1', tol=1e-6)\n",
    "clf.fit(X, y)\n",
    "\n",
    "# predict on validation\n",
    "cv_df = util.get_features(split_cv)\n",
    "cv_predictions = clf.predict(cv_df.as_matrix()[:, 1:])\n",
    "clf.score(X, y)\n",
    "#print(util.get_error_rate(data_train, split_cv,cv_df, cv_predictions))"
   ]
  },
  {
   "cell_type": "code",
   "execution_count": 199,
   "metadata": {},
   "outputs": [
    {
     "name": "stdout",
     "output_type": "stream",
     "text": [
      "Index([u'SibSp', u'Parch', u'Cabin_No', u'Cabin_Yes', u'Pclass_1', u'Pclass_2',\n",
      "       u'Pclass_3', u'Sex_female', u'Sex_male', u'Embarked_C', u'Embarked_Q',\n",
      "       u'Embarked_S', u'Age_scaled', u'Fare_scaled'],\n",
      "      dtype='object')\n",
      "                 coef      columns\n",
      "0    [-0.41553532724]        SibSp\n",
      "1   [-0.108981344433]        Parch\n",
      "2               [0.0]     Cabin_No\n",
      "3    [0.718766623275]    Cabin_Yes\n",
      "4    [0.373723189817]     Pclass_1\n",
      "5               [0.0]     Pclass_2\n",
      "6    [-1.18662592747]     Pclass_3\n",
      "7     [2.08339799372]   Sex_female\n",
      "8   [-0.555832812359]     Sex_male\n",
      "9               [0.0]   Embarked_C\n",
      "10              [0.0]   Embarked_Q\n",
      "11  [-0.452048639152]   Embarked_S\n",
      "12   [-0.54429156105]   Age_scaled\n",
      "13  [0.0598811392978]  Fare_scaled\n"
     ]
    }
   ],
   "source": [
    "data_test = pd.read_csv('data/test.csv')\n",
    "util.set_missing_fare(data_test)\n",
    "data_test, rfr2 = util.set_missing_ages(data_test)\n",
    "data_test = util.change_age_to_enum(data_test)\n",
    "data_test = util.change_cabin_to_enum(data_test)\n",
    "\n",
    "data_test = util.replace_with_dummies(data_test)\n",
    "data_test = util.scale_fields(data_test)\n",
    "test_df = util.get_features(data_test)\n",
    "\n",
    "print(test_df.columns)\n",
    "predictions = clf.predict(test_df.as_matrix())\n",
    "\n",
    "import numpy as np \n",
    "\n",
    "result = pd.DataFrame({'PassengerId': data_test['PassengerId'].as_matrix(), 'Survived': predictions.astype(np.int32)})\n",
    "result.to_csv(\"lr_2_predict_result.csv\", index=False)\n",
    "print(pd.DataFrame({'columns': list(train_df.columns)[1:], 'coef': list(clf.coef_.T)}))"
   ]
  },
  {
   "cell_type": "code",
   "execution_count": 204,
   "metadata": {},
   "outputs": [
    {
     "data": {
      "text/plain": [
       "0.26881794650560809"
      ]
     },
     "execution_count": 204,
     "metadata": {},
     "output_type": "execute_result"
    }
   ],
   "source": [
    "from sklearn.ensemble import BaggingRegressor\n",
    "train_df = util.get_features(data_train)\n",
    "train_np = train_df.as_matrix()\n",
    "\n",
    "y = train_np[:, 0]\n",
    "x = train_np[:, 1:]\n",
    "\n",
    "clf = linear_model.LogisticRegression(C=1.0, penalty='l1', tol=1e-6)\n",
    "bagging_clf = BaggingRegressor(clf, n_estimators=10, max_samples=0.8, max_features=1.0, bootstrap=True, bootstrap_features=False, n_jobs=-1)\n",
    "bagging_clf.fit(x, y)\n",
    "bagging_clf.score(x, y)"
   ]
  }
 ],
 "metadata": {
  "kernelspec": {
   "display_name": "Python 2",
   "language": "python",
   "name": "python2"
  },
  "language_info": {
   "codemirror_mode": {
    "name": "ipython",
    "version": 2
   },
   "file_extension": ".py",
   "mimetype": "text/x-python",
   "name": "python",
   "nbconvert_exporter": "python",
   "pygments_lexer": "ipython2",
   "version": "2.7.12"
  }
 },
 "nbformat": 4,
 "nbformat_minor": 2
}
